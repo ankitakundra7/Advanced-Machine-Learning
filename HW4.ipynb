{
 "cells": [
  {
   "cell_type": "markdown",
   "metadata": {
    "id": "8R_k_q-xlwE7"
   },
   "source": [
    "# <p style=\"text-align: center;\">MIS 382N: Advanced Machine Learning</p>\n",
    "# <p style=\"text-align: center;\">Homework 4</p>\n",
    "### <p style=\"text-align: center;\">Total points: 55 </p>\n",
    "## <p style=\"text-align: center;\">Due: Wed, **Nov, 3rd** submitted via Canvas by 11:59 pm</p>\n",
    "\n",
    "Your homework should be written in a **Jupyter notebook**. Please make sure your code runs and the graphics (and anything else) are displayed in your notebook before submitting (%matplotlib inline). \n",
    "\n",
    "**Note: Notebooks MUST have the images embedded in them. There will be no regrades if attached images do not render in the notebook. Please re download from canvas after submission and make sure all attached images render without errors. (Hint: Image module from IPython.display)**"
   ]
  },
  {
   "cell_type": "markdown",
   "metadata": {
    "id": "K62r4Kaoly_t"
   },
   "source": [
    "**This can be an individual assignment or group of 2. If you choose to do it as a group, please specify who you are working with (name and EID), then only one student should submit the homework. Put your name and eid here.**\n",
    "\n",
    "Name: Ankita Kundra\n",
    "\n",
    "EID: ak44675"
   ]
  },
  {
   "cell_type": "markdown",
   "metadata": {
    "id": "dJFRr3e-J9lr"
   },
   "source": [
    "#Question 1: Reject option (10 pts)\n",
    "\n",
    "Consider a binary classification problem with the following loss matrix, where the cost of rejection is a constant. \n",
    "\n",
    "$$\n",
    "   {\\begin{array}{ccccc}\n",
    "   & & \\text{Predicted class} & \\text{           } &\\\\\n",
    "   & & C_1 & C_2 & Reject\\\\\n",
    "   \\text{True class} & C_1 & 0 & 2 & c  \\\\\n",
    "   & C_2 & 4 & 0 & c \\\\\n",
    "  \\end{array} } \n",
    "$$\n",
    "\n",
    "If $c$ = 1, determine the respective predicted classes that will minimize the expected loss when $P(C_1|x)$ falls in different value intervals. That is, please give the decision rules for $C_1$, $C_2$ and $Reject$."
   ]
  },
  {
   "cell_type": "markdown",
   "metadata": {
    "id": "p3dMm-ADQ9sr"
   },
   "source": [
    "## Answer:"
   ]
  },
  {
   "cell_type": "markdown",
   "metadata": {},
   "source": [
    "Minimum expected cost decisions depend on the loss matrix and the prosterior probabilities. \n",
    "\n",
    "Expected Loss if x is labelled as $C_1$: \n",
    "\n",
    "$$0*P(C_1|x) + 4*(1-P(C_1|x)) = 4-4P(C_1|x)$$ \n",
    "\n",
    "Expected Loss if x is labelled as $C_2$: \n",
    "\n",
    "$$ 2*P(C_1|x) + 0*(1-P(C_1|x)) = 2P(C_1|x) $$ \n",
    "\n",
    "Expected Loss if x is not classified as either: \n",
    "\n",
    "$$ c*P(C_1|x)+c*(1-P(C_1|x)) = c = 1 $$\n",
    "\n",
    "Decision boundary of $C_1$ and Reject i.e x will be labelled as $C_1$ if:  \n",
    "\n",
    "$$ \\begin{eqnarray*} 4-4P(C_1|x) &<& 1 \\end{eqnarray*} $$ \n",
    "\n",
    "$$ \\begin{eqnarray*} P(C_1|x) &>& \\frac{3}{4} \\end{eqnarray*} $$ \n",
    "\n",
    "Decision boundary of $C_2$ and Reject i.e x will be labelled as $C_2$ if: \n",
    "\n",
    "$$ \\begin{eqnarray*} 2P(C_1|x) &<& 1 \\end{eqnarray*} $$  \n",
    "\n",
    "$$ \\begin{eqnarray*} P(C_1|x) &<& \\frac{1}{2} \\end{eqnarray*} $$ \n",
    "\n",
    "Decision boundary of $C_1$ and $C_2$ i.e x will be labelled as $C_1$ if: \n",
    "\n",
    "$$ \\begin{eqnarray*} 4-4P(C_1|x) &<& 2P(C_1|x) \\end{eqnarray*} $$\n",
    "\n",
    "$$ \\begin{eqnarray*} P(C_1|x) &>& \\frac{2}{3} \\end{eqnarray*} $$\n",
    "\n",
    "Thus,\n",
    "\n",
    "Decision rule for $C_1$ is $P(C_1|x)$ >= $\\frac{3}{4}\\$\n",
    "\n",
    "Decision rule for $C_2$ is $P(C_1|x)$ =< $\\frac{1}{2}\\$\n",
    "\n",
    "Decision rule for Reject is $\\frac{1}{2}\\ < $$P(C_1|x)$$ < \\frac{3}{4}\\$\n",
    "\n",
    "Relevant plot to confirm the Decision Rules above:"
   ]
  },
  {
   "cell_type": "code",
   "execution_count": 17,
   "metadata": {},
   "outputs": [
    {
     "data": {
      "image/png": "[encoded data removed]",
      "text/plain": [
       "<Figure size 432x288 with 1 Axes>"
      ]
     },
     "metadata": {
      "needs_background": "light"
     },
     "output_type": "display_data"
    }
   ],
   "source": [
    "#use np.linspace to create an array to graph various probability values\n",
    "prob = np.linspace(0,1,100)\n",
    "\n",
    "#Define loss functions\n",
    "c1_loss = 4-4*prob\n",
    "c2_loss = 2*prob\n",
    "reject_loss = np.ones(len(prob))\n",
    "\n",
    "#Make a scatterplot\n",
    "plt.plot(prob,c1_loss,color = 'blue', label = 'Expected Loss on Classifying x as 1')\n",
    "plt.plot(prob,c2_loss,color = 'red', label = 'Expected Loss on Classifying x as 2')\n",
    "plt.plot(prob,reject_loss,color = 'grey', label ='Expected Loss on Rejecting')\n",
    "plt.title('Solution Sketch of Expected Loss')\n",
    "plt.xlabel('P(C1|X)')\n",
    "plt.ylabel('Loss')\n",
    "plt.legend()\n",
    "plt.show()"
   ]
  },
  {
   "cell_type": "markdown",
   "metadata": {
    "id": "PXZOdsIClzeq"
   },
   "source": [
    "# Question 2: Logistic Regression (15 pts) \n",
    "\n",
    "Logistic regression has been traditionally used to classify data when a **linear decision boundary** is adequate. However, having an idea of what the distribution looks like could help one come up with a smart data transformation trick that could make the optimal decision boundary become (near) linear in the transformed space. In this question, you are given 2-dimensional data, and each data point belongs to either class 0 or class 1. \n",
    "\n",
    "a) **(5 pts)** Train a logistic regression classifier using X_train, y_train. Use the trained model to make predictions on X_train, X_test respectively, and then report the accuracies and F1-scores. Sklearn has a very nice [utility](https://scikit-learn.org/stable/modules/generated/sklearn.metrics.classification_report.html) that helps compute the precision, recall, accuracy and F1-scores. \n",
    "\n",
    "b) **(5 pts)** Plot the X_train data using matplotlib, use different colors to represent different classes. Comment on the pattern of data distributions, and reason why the logistic regression classifier in (a) does not perform very well.  \n",
    "\n",
    "c) **(5 pts)** Transform the input X_train and X_test data in such a way that a linear decision boundary will be effective. Train a new logistic regression classifier on this transformed X_train data. Use the trained model to make predictions on transformed X_train, transformed X_test respectively, and then report the accuracies and F1-scores. \n",
    "\n",
    "**Hint**: Carefully analyze the plot you made in (b), observe the decision boundaries, which should guide you towards the right direction."
   ]
  },
  {
   "cell_type": "code",
   "execution_count": 1,
   "metadata": {
    "id": "O1T7hgXEnADb"
   },
   "outputs": [],
   "source": [
    "import numpy as np\n",
    "\n",
    "data = np.load('q2_data.npy', allow_pickle=True)\n",
    "\n",
    "X_train, y_train = data.item().get('X_train'), data.item().get('y_train')\n",
    "X_test, y_test = data.item().get('X_test'), data.item().get('y_test')"
   ]
  },
  {
   "cell_type": "markdown",
   "metadata": {
    "id": "8Pcj3TgwnCpr"
   },
   "source": [
    "## Answer:"
   ]
  },
  {
   "cell_type": "markdown",
   "metadata": {},
   "source": [
    "### a)"
   ]
  },
  {
   "cell_type": "code",
   "execution_count": 2,
   "metadata": {},
   "outputs": [],
   "source": [
    "from sklearn.linear_model import LogisticRegression\n",
    "from sklearn.metrics import classification_report\n",
    "\n",
    "model = LogisticRegression()\n",
    "result = model.fit(X_train, y_train)\n",
    "\n",
    "y_train_pred = model.predict(X_train)\n",
    "y_test_pred = model.predict(X_test)"
   ]
  },
  {
   "cell_type": "code",
   "execution_count": 123,
   "metadata": {},
   "outputs": [
    {
     "name": "stdout",
     "output_type": "stream",
     "text": [
      "Precision, Recall, F1-score and Support on Train Data:\n",
      "\n",
      "              precision    recall  f1-score   support\n",
      "\n",
      "       False       0.71      1.00      0.83       214\n",
      "        True       0.00      0.00      0.00        86\n",
      "\n",
      "    accuracy                           0.71       300\n",
      "   macro avg       0.36      0.50      0.42       300\n",
      "weighted avg       0.51      0.71      0.59       300\n",
      "\n",
      "Precision, Recall, F1-score and Support on Test Data:\n",
      "\n",
      "              precision    recall  f1-score   support\n",
      "\n",
      "       False       0.69      1.00      0.82        69\n",
      "        True       0.00      0.00      0.00        31\n",
      "\n",
      "    accuracy                           0.69       100\n",
      "   macro avg       0.34      0.50      0.41       100\n",
      "weighted avg       0.48      0.69      0.56       100\n",
      "\n"
     ]
    },
    {
     "name": "stderr",
     "output_type": "stream",
     "text": [
      "/Applications/anaconda3/lib/python3.7/site-packages/sklearn/metrics/_classification.py:1308: UndefinedMetricWarning: Precision and F-score are ill-defined and being set to 0.0 in labels with no predicted samples. Use `zero_division` parameter to control this behavior.\n",
      "  _warn_prf(average, modifier, msg_start, len(result))\n",
      "/Applications/anaconda3/lib/python3.7/site-packages/sklearn/metrics/_classification.py:1308: UndefinedMetricWarning: Precision and F-score are ill-defined and being set to 0.0 in labels with no predicted samples. Use `zero_division` parameter to control this behavior.\n",
      "  _warn_prf(average, modifier, msg_start, len(result))\n",
      "/Applications/anaconda3/lib/python3.7/site-packages/sklearn/metrics/_classification.py:1308: UndefinedMetricWarning: Precision and F-score are ill-defined and being set to 0.0 in labels with no predicted samples. Use `zero_division` parameter to control this behavior.\n",
      "  _warn_prf(average, modifier, msg_start, len(result))\n",
      "/Applications/anaconda3/lib/python3.7/site-packages/sklearn/metrics/_classification.py:1308: UndefinedMetricWarning: Precision and F-score are ill-defined and being set to 0.0 in labels with no predicted samples. Use `zero_division` parameter to control this behavior.\n",
      "  _warn_prf(average, modifier, msg_start, len(result))\n",
      "/Applications/anaconda3/lib/python3.7/site-packages/sklearn/metrics/_classification.py:1308: UndefinedMetricWarning: Precision and F-score are ill-defined and being set to 0.0 in labels with no predicted samples. Use `zero_division` parameter to control this behavior.\n",
      "  _warn_prf(average, modifier, msg_start, len(result))\n",
      "/Applications/anaconda3/lib/python3.7/site-packages/sklearn/metrics/_classification.py:1308: UndefinedMetricWarning: Precision and F-score are ill-defined and being set to 0.0 in labels with no predicted samples. Use `zero_division` parameter to control this behavior.\n",
      "  _warn_prf(average, modifier, msg_start, len(result))\n"
     ]
    }
   ],
   "source": [
    "print(\"Precision, Recall, F1-score and Support on Train Data:\\n\")\n",
    "\n",
    "print(classification_report(y_train, y_train_pred))\n",
    "\n",
    "print(\"Precision, Recall, F1-score and Support on Test Data:\\n\")\n",
    "\n",
    "print(classification_report(y_test, y_test_pred))"
   ]
  },
  {
   "cell_type": "markdown",
   "metadata": {},
   "source": [
    "### b)"
   ]
  },
  {
   "cell_type": "code",
   "execution_count": 11,
   "metadata": {},
   "outputs": [
    {
     "data": {
      "text/plain": [
       "<matplotlib.collections.PathCollection at 0x1a16357f50>"
      ]
     },
     "execution_count": 11,
     "metadata": {},
     "output_type": "execute_result"
    },
    {
     "data": {
      "image/png": "[encoded data removed]",
      "text/plain": [
       "<Figure size 432x288 with 1 Axes>"
      ]
     },
     "metadata": {
      "needs_background": "light"
     },
     "output_type": "display_data"
    }
   ],
   "source": [
    "import matplotlib.pyplot as plt\n",
    "plt.scatter(X_train[:,0],X_train[:,1], c = y_train, label = y_train)"
   ]
  },
  {
   "cell_type": "markdown",
   "metadata": {},
   "source": [
    "Thus, it can be seen that the seperation boundary in this case is not linear but eliptical. Logistic regression is used to classify data when a linear decision boundary is adequate. Since decision boundary is not linear in this case, we get poor results for metrics like accuracy, precision, recall etc in the pevious question."
   ]
  },
  {
   "cell_type": "markdown",
   "metadata": {},
   "source": [
    "### c)"
   ]
  },
  {
   "cell_type": "markdown",
   "metadata": {},
   "source": [
    "Since the distribution is elliptical, we tranform the input variables in quadratic form since $b_0 + b_1x_1^2 + b_2x_2^2 = 0$ will give a linear boundary in this case"
   ]
  },
  {
   "cell_type": "code",
   "execution_count": 12,
   "metadata": {},
   "outputs": [
    {
     "data": {
      "text/plain": [
       "<matplotlib.collections.PathCollection at 0x1a16449910>"
      ]
     },
     "execution_count": 12,
     "metadata": {},
     "output_type": "execute_result"
    },
    {
     "data": {
      "image/png": "[encoded data removed]",
      "text/plain": [
       "<Figure size 432x288 with 1 Axes>"
      ]
     },
     "metadata": {
      "needs_background": "light"
     },
     "output_type": "display_data"
    }
   ],
   "source": [
    "X_train_transformed = X_train**2\n",
    "X_test_transformed = X_test**2\n",
    "plt.scatter(X_train_transformed[:,0],X_train_transformed[:,1], c = y_train)"
   ]
  },
  {
   "cell_type": "code",
   "execution_count": 13,
   "metadata": {},
   "outputs": [],
   "source": [
    "model2 = LogisticRegression()\n",
    "result2 = model2.fit(X_train_transformed, y_train)\n",
    "\n",
    "y_train_pred2 = model2.predict(X_train_transformed)\n",
    "y_test_pred2 = model2.predict(X_test_transformed)"
   ]
  },
  {
   "cell_type": "code",
   "execution_count": 125,
   "metadata": {},
   "outputs": [
    {
     "name": "stdout",
     "output_type": "stream",
     "text": [
      "Precision, Recall, F1-score and Support on Train Data:\n",
      "\n",
      "              precision    recall  f1-score   support\n",
      "\n",
      "       False       1.00      1.00      1.00       214\n",
      "        True       0.99      0.99      0.99        86\n",
      "\n",
      "    accuracy                           0.99       300\n",
      "   macro avg       0.99      0.99      0.99       300\n",
      "weighted avg       0.99      0.99      0.99       300\n",
      "\n",
      "Precision, Recall, F1-score and Support on Test Data:\n",
      "\n",
      "              precision    recall  f1-score   support\n",
      "\n",
      "       False       1.00      1.00      1.00        69\n",
      "        True       1.00      1.00      1.00        31\n",
      "\n",
      "    accuracy                           1.00       100\n",
      "   macro avg       1.00      1.00      1.00       100\n",
      "weighted avg       1.00      1.00      1.00       100\n",
      "\n"
     ]
    }
   ],
   "source": [
    "print(\"Precision, Recall, F1-score and Support on Train Data:\\n\")\n",
    "\n",
    "print(classification_report(y_train, y_train_pred2))\n",
    "\n",
    "print(\"Precision, Recall, F1-score and Support on Test Data:\\n\")\n",
    "\n",
    "print(classification_report(y_test, y_test_pred2))"
   ]
  },
  {
   "cell_type": "markdown",
   "metadata": {},
   "source": [
    "Thus, we can see that by the smart data transformation, we are getting high accuracy, precision and recall."
   ]
  },
  {
   "cell_type": "markdown",
   "metadata": {
    "id": "3kuJ3AByMTpI"
   },
   "source": [
    "# Question 3: Bayesian Network (5 pts)\n",
    "\n",
    "A Bayesian network is a directed acyclic graph (DAG) that captures a subset of the independence relationships of a given joint probability distribution. \n",
    "\n",
    "In a Bayesian network $G=(V,E)$, each node $i \\in V$in the directed graph corresponds to a random variable and each directed edge $e \\in E$ represents a statistical dependence. Each node is associated with a conditional probability distribution of the corresponding random variables given its parents in the DAG. The joint probability distribution factorizes w.r.t the directed graph $G$ if $p(x_1, ..., x_n)=\\prod_{i \\in V} p(x_i | x_{parents(i)})$, provided the variables are visited in a topologically sorted order. Please write the joint probability distribution that factorizes w.r.t this graph, in as simple a form as possible (i.e. that results in the smallest possible conditional probability tables:\n"
   ]
  },
  {
   "cell_type": "code",
   "execution_count": 228,
   "metadata": {
    "colab": {
     "base_uri": "https://localhost:8080/",
     "height": 505
    },
    "id": "sfd86n0uP0dp",
    "outputId": "6cad03b4-86b3-4912-84df-dc378b00cbbb"
   },
   "outputs": [
    {
     "data": {
      "text/html": [
       "<iframe src=\"https://drive.google.com/file/d/1XigbvsWpNvlols3QarVjDfYf2Dnf3emy/preview\" width=\"640\" height=\"480\" allow=\"autoplay\"></iframe>\n"
      ],
      "text/plain": [
       "<IPython.core.display.HTML object>"
      ]
     },
     "metadata": {},
     "output_type": "display_data"
    }
   ],
   "source": [
    "%%html\n",
    "<iframe src=\"https://drive.google.com/file/d/1XigbvsWpNvlols3QarVjDfYf2Dnf3emy/preview\" width=\"640\" height=\"480\" allow=\"autoplay\"></iframe>"
   ]
  },
  {
   "cell_type": "markdown",
   "metadata": {
    "id": "_kUqyveiP6zV"
   },
   "source": [
    "## Answer:\n"
   ]
  },
  {
   "cell_type": "markdown",
   "metadata": {},
   "source": [
    "In Bayesian Network, any variable is conditionally independent of all non-descendent variables given its parents.\n",
    "\n",
    "The general Bayesian model is: \n",
    "\n",
    "$$ P(A,B,C,D,E,F) = P(A)*P(B|A)*P(C|A,B)*P(D|A,B,C)*P(E|A,B,C,D)*P(F|A,B,C,D,E) $$\n",
    "\n",
    "$$ P(A,B,C,D,E,F) = P(A)*P(B|A)*P(C|A,E)*P(D|B)*P(E|B)*P(F|C,D,E) $$\n",
    "\n",
    "\n",
    "\n"
   ]
  },
  {
   "cell_type": "markdown",
   "metadata": {
    "id": "KPukziKknW3K"
   },
   "source": [
    "# Question 4: Counterfactuals (25 pts)\n"
   ]
  },
  {
   "cell_type": "markdown",
   "metadata": {
    "id": "tASB8c_MJ2ZD"
   },
   "source": [
    "To show the effectiveness of a newly proposed model, one needs to compare it with multiple  existing solutions, across multiple datasets with different properties, and typically using multiple evaluation metrics. \n",
    "\n",
    "One of the emerging requirements in industry is to be able to explain decisions, and counterfactual (CF) explanations turn out to be a lead contender. Hence a new CF approach also needs to be evaluated comprehensively. See [1] for a review on conterfactual explanations. \n",
    "\n",
    "An example of a short comparative testing for CFs is given in [2], (you don’t need to understand the method in [2] since I have not covered this type of techinques in class, just see the result tables). The goal of this question is to **try to obtain results that are similar to those reported in [2]** (note that they give details of their model settings in the appendix). In particular, you will evaluate the following datasets: Breast Cancer, Pima diabetes and Adult Census across 5 metrics (Validity, sparsity, proximity, diversity, in-distributionness). \n",
    "\n",
    "**Note**: **Section A** students only need to report on the **Breat Cancer and Adult Census datasets** while **Section B** students only need to report results on the **Pima diabetes and Adult Census datasets**.\n",
    "\n",
    "[1] Verma, Dickerson, Hines. Counterfactual Explanations for Machine Learning: A Review. [arXiv:2010.10596](https://arxiv.org/abs/2010.10596) (2020) \n",
    "\n",
    "[2] Samoilescu, et al. Model-agnostic and Scalable Counterfactual Explanations via Reinforcement Learning.  [arXiv:2106.02597](https://arxiv.org/abs/2106.02597) (2021) \n",
    "\n",
    "\n",
    "a) Train **Random Forest, MLP and Logistic Regression** models on your datasets and report the accuracies on each of the datasets, show the accuracy on both the training and test set in a table.\n",
    "\n",
    "Use the code snippets given below to load the datasets and make the split using the following code snippet: ```X_train, X_test, y_train, y_test = train_test_split(X, y, test_size=0.33, random_state=42)``` \n",
    "\n",
    "```\n",
    "# Breast cancer dataset, for Section A only\n",
    "from sklearn.datasets import load_breast_cancer\n",
    "\n",
    "data = load_breast_cancer()\n",
    "X = data.data\n",
    "y = data.target\n",
    "cols = ['mean radius', 'mean texture', 'mean perimeter', 'mean area',\n",
    "        'mean smoothness', 'mean compactness', 'mean concavity',\n",
    "        'mean concave points', 'mean symmetry', 'mean fractal dimension',\n",
    "        'radius error', 'texture error', 'perimeter error', 'area error',\n",
    "        'smoothness error', 'compactness error', 'concavity error',\n",
    "        'concave points error', 'symmetry error',\n",
    "        'fractal dimension error', 'worst radius', 'worst texture',\n",
    "        'worst perimeter', 'worst area', 'worst smoothness',\n",
    "        'worst compactness', 'worst concavity', 'worst concave points',\n",
    "        'worst symmetry', 'worst fractal dimension']\n",
    "X = pd.DataFrame(data=X, columns=cols)\n",
    "\n",
    "# Pima Diabetes dataset, for Section B only\n",
    "def load_diabetes():\n",
    "  df = pd.read_csv('diabetes.csv')\n",
    "  X = df.drop(['Outcome'], axis=1)\n",
    "  y = df[['Outcome']]\n",
    "  return X, np.reshape(y, (-1, ))\n",
    "\n",
    "X, y = load_diabetes()\n",
    "\n",
    "# adult census dataset, for Section A and Section B\n",
    "def load_adult():\n",
    "  df = pd.read_csv('adult.csv')\n",
    "  df = pd.get_dummies(df)\n",
    "  X = df.drop(['target'], axis=1)\n",
    "  y = df[['target']]\n",
    "  return X, np.reshape(y, (-1, ))\n",
    "\n",
    "X, y = load_adult()\n",
    "```\n",
    "b) For each of the datasets, plot the calibration curves for the entire dataset. The [module](https://scikit-learn.org/stable/modules/calibration.html) from sklearn should help.\n",
    "\n",
    "For each dataset, the calibration curve should show a y=x line as the perfect calibration, as well as the calibration curves for each of the model predictions. Mark the plots correctly using a legend.\n",
    "\n",
    "c) [DiCE](https://github.com/interpretml/DiCE) is an open-source library that is based on the paper [Explaining Machine Learning Classifiers through Diverse Counterfactual Explanations](https://arxiv.org/abs/1905.07697). The codebase has 3 methods in which they generate counterfactuals - random sampling, KD-tree and genetic algorithm. Use DiCE (random) and DiCE (genetic) to generate 5 counterfactuals each for the first 50 data point in the test set for each of the models. Report the following metrics for each of the datasets and each of the models. So essentially, you will need to create a table for each dataset where the metrics are present in the columns and each row represents a different model. \n",
    "\n",
    "Here are some pointers that will help you get started with DiCE and the metrics needed. \n",
    "- Install the library using ```!pip install dice-ml```\n",
    "- They have an excellent documentation on their GitHub, and their implementation notebooks will be very helpful. You can check [this](https://github.com/interpretml/DiCE/blob/master/docs/source/notebooks/DiCE_model_agnostic_CFs.ipynb) to get started.\n",
    "- Section 4.1 in the [DiCE paper](https://arxiv.org/pdf/1905.07697.pdf) discuss and mathematically formulate validity, sparsity, diversity and proximity. Read those carefully and implement functions that can evaluate the metrics. Use the ```Continuous-Proximity``` metric just for simplicity. Use the ```Diversity``` metric and not ```Count-Diversity```.\n",
    "- For the in-distributionness, use the following code snippet to evaluate the MMD (maximum mean discrepancy) score.\n",
    "\n",
    "```\n",
    "def get_mmd_rbf(X, Y, gamma=1.0):\n",
    "    \"\"\"MMD using rbf (gaussian) kernel (i.e., k(x,y) = exp(-gamma * ||x-y||^2 / 2))\n",
    "    Arguments:\n",
    "        X {[n_sample1, dim]} -- [X matrix]\n",
    "        Y {[n_sample2, dim]} -- [Y matrix]\n",
    "    Keyword Arguments:\n",
    "        gamma {float} -- [kernel parameter] (default: {1.0})\n",
    "    Returns:\n",
    "        [scalar] -- [MMD value]\n",
    "    \"\"\"\n",
    "    XX = metrics.pairwise.rbf_kernel(X, X, gamma)\n",
    "    YY = metrics.pairwise.rbf_kernel(Y, Y, gamma)\n",
    "    XY = metrics.pairwise.rbf_kernel(X, Y, gamma)\n",
    "    return XX.mean() + YY.mean() - 2 * XY.mean()\n",
    "```\n"
   ]
  },
  {
   "cell_type": "markdown",
   "metadata": {
    "id": "gcLazqf-DLkq"
   },
   "source": [
    "## Answer:"
   ]
  },
  {
   "cell_type": "markdown",
   "metadata": {},
   "source": [
    "### a)"
   ]
  },
  {
   "cell_type": "code",
   "execution_count": 276,
   "metadata": {},
   "outputs": [],
   "source": [
    "import pandas as pd\n",
    "import numpy as np\n",
    "from collections import defaultdict\n",
    "from sklearn import metrics"
   ]
  },
  {
   "cell_type": "code",
   "execution_count": 277,
   "metadata": {},
   "outputs": [],
   "source": [
    "# Pima Diabetes dataset, for Section B only:\n",
    "\n",
    "def load_diabetes():\n",
    "    df = pd.read_csv('diabetes-2.csv')\n",
    "    X = df.drop(['Outcome'], axis=1)\n",
    "    y = df[['Outcome']]\n",
    "    return X, np.reshape(y, (-1, ))\n",
    "\n",
    "X_diabetes, y_diabetes = load_diabetes()\n",
    "\n",
    "# adult census dataset, for Section A and Section B\n",
    "def load_adult():\n",
    "    df = pd.read_csv('adult.csv')\n",
    "    df = pd.get_dummies(df)\n",
    "    X = df.drop(['target'], axis=1)\n",
    "    y = df[['target']]\n",
    "    return X, np.reshape(y, (-1, ))\n",
    "\n",
    "X_adult, y_adult = load_adult()\n",
    "\n",
    "from sklearn.model_selection import train_test_split\n",
    "X_diabetes_train, X_diabetes_test, y_diabetes_train, y_diabetes_test = train_test_split(X_diabetes, y_diabetes, test_size=0.33, random_state=42)\n",
    "\n",
    "X_adult_train, X_adult_test, y_adult_train, y_adult_test = train_test_split(X_adult, y_adult, test_size=0.33, random_state=42)\n",
    "\n",
    "metrics_table_diabetes = pd.DataFrame(columns = ['Train', 'Test'], index = ['Random Forest', 'MLP', 'Logistic Regression'])\n",
    "metrics_table_adult = pd.DataFrame(columns = ['Train', 'Test'], index = ['Random Forest', 'MLP', 'Logistic Regression'])"
   ]
  },
  {
   "cell_type": "markdown",
   "metadata": {},
   "source": [
    "### Random Forest: "
   ]
  },
  {
   "cell_type": "code",
   "execution_count": 278,
   "metadata": {},
   "outputs": [
    {
     "name": "stderr",
     "output_type": "stream",
     "text": [
      "/Applications/anaconda3/lib/python3.7/site-packages/ipykernel_launcher.py:5: DataConversionWarning: A column-vector y was passed when a 1d array was expected. Please change the shape of y to (n_samples,), for example using ravel().\n",
      "  \"\"\"\n"
     ]
    },
    {
     "name": "stdout",
     "output_type": "stream",
     "text": [
      "For diabetes dataset:\n",
      "The training accuracy is: 1.0\n",
      "The test accuracy is: 0.7519685039370079\n"
     ]
    },
    {
     "name": "stderr",
     "output_type": "stream",
     "text": [
      "/Applications/anaconda3/lib/python3.7/site-packages/ipykernel_launcher.py:15: DataConversionWarning: A column-vector y was passed when a 1d array was expected. Please change the shape of y to (n_samples,), for example using ravel().\n",
      "  from ipykernel import kernelapp as app\n"
     ]
    },
    {
     "name": "stdout",
     "output_type": "stream",
     "text": [
      "For adult dataset:\n",
      "The training accuracy is: 1.0\n",
      "The test accuracy is: 0.8554811092499535\n"
     ]
    }
   ],
   "source": [
    "from sklearn.ensemble import RandomForestClassifier\n",
    "from sklearn.metrics import accuracy_score\n",
    "\n",
    "rfc1 = RandomForestClassifier(random_state=42)\n",
    "rfc1.fit(X_diabetes_train, y_diabetes_train)\n",
    "\n",
    "print(\"For diabetes dataset:\")\n",
    "print(\"The training accuracy is:\", accuracy_score(y_diabetes_train, rfc1.predict(X_diabetes_train)))\n",
    "print(\"The test accuracy is:\", accuracy_score(y_diabetes_test, rfc1.predict(X_diabetes_test)))\n",
    "\n",
    "metrics_table_diabetes.loc['Random Forest','Train'] = accuracy_score(y_diabetes_train, rfc1.predict(X_diabetes_train))\n",
    "metrics_table_diabetes.loc['Random Forest','Test'] = accuracy_score(y_diabetes_test, rfc1.predict(X_diabetes_test))\n",
    "\n",
    "rfc2 = RandomForestClassifier(random_state=42)\n",
    "rfc2.fit(X_adult_train, y_adult_train)\n",
    "\n",
    "print(\"For adult dataset:\")\n",
    "print(\"The training accuracy is:\", accuracy_score(y_adult_train, rfc2.predict(X_adult_train)))\n",
    "print(\"The test accuracy is:\", accuracy_score(y_adult_test, rfc2.predict(X_adult_test)))\n",
    "\n",
    "\n",
    "metrics_table_adult.loc['Random Forest','Train'] = accuracy_score(y_adult_train, rfc2.predict(X_adult_train))\n",
    "metrics_table_adult.loc['Random Forest','Test'] = accuracy_score(y_adult_test, rfc2.predict(X_adult_test))\n"
   ]
  },
  {
   "cell_type": "markdown",
   "metadata": {},
   "source": [
    "### MLP:"
   ]
  },
  {
   "cell_type": "code",
   "execution_count": 279,
   "metadata": {},
   "outputs": [
    {
     "name": "stderr",
     "output_type": "stream",
     "text": [
      "/Applications/anaconda3/lib/python3.7/site-packages/sklearn/neural_network/_multilayer_perceptron.py:1109: DataConversionWarning: A column-vector y was passed when a 1d array was expected. Please change the shape of y to (n_samples, ), for example using ravel().\n",
      "  y = column_or_1d(y, warn=True)\n",
      "/Applications/anaconda3/lib/python3.7/site-packages/sklearn/neural_network/_multilayer_perceptron.py:696: ConvergenceWarning: Stochastic Optimizer: Maximum iterations (200) reached and the optimization hasn't converged yet.\n",
      "  ConvergenceWarning,\n",
      "/Applications/anaconda3/lib/python3.7/site-packages/sklearn/neural_network/_multilayer_perceptron.py:1109: DataConversionWarning: A column-vector y was passed when a 1d array was expected. Please change the shape of y to (n_samples, ), for example using ravel().\n",
      "  y = column_or_1d(y, warn=True)\n"
     ]
    },
    {
     "name": "stdout",
     "output_type": "stream",
     "text": [
      "For diabetes dataset:\n",
      "The training accuracy is: 0.7957198443579766\n",
      "The test accuracy is: 0.7007874015748031\n",
      "For adult dataset:\n",
      "The training accuracy is: 0.7807013522805409\n",
      "The test accuracy is: 0.788107202680067\n"
     ]
    }
   ],
   "source": [
    "from sklearn.neural_network import MLPClassifier\n",
    "\n",
    "mlp1 = MLPClassifier()\n",
    "mlp1.fit(X_diabetes_train, y_diabetes_train)\n",
    "\n",
    "print(\"For diabetes dataset:\")\n",
    "print(\"The training accuracy is:\", accuracy_score(y_diabetes_train, mlp1.predict(X_diabetes_train)))\n",
    "print(\"The test accuracy is:\", accuracy_score(y_diabetes_test, mlp1.predict(X_diabetes_test)))\n",
    "\n",
    "metrics_table_diabetes.loc['MLP','Train'] = accuracy_score(y_diabetes_train, mlp1.predict(X_diabetes_train))\n",
    "metrics_table_diabetes.loc['MLP','Test'] = accuracy_score(y_diabetes_test, mlp1.predict(X_diabetes_test))\n",
    "\n",
    "\n",
    "mlp2 = MLPClassifier()\n",
    "mlp2.fit(X_adult_train, y_adult_train)\n",
    "\n",
    "print(\"For adult dataset:\")\n",
    "print(\"The training accuracy is:\", accuracy_score(y_adult_train, mlp2.predict(X_adult_train)))\n",
    "print(\"The test accuracy is:\", accuracy_score(y_adult_test, mlp2.predict(X_adult_test)))\n",
    "\n",
    "metrics_table_adult.loc['MLP','Train'] = accuracy_score(y_adult_train, mlp2.predict(X_adult_train))\n",
    "metrics_table_adult.loc['MLP','Test'] = accuracy_score(y_adult_test, mlp2.predict(X_adult_test))"
   ]
  },
  {
   "cell_type": "markdown",
   "metadata": {},
   "source": [
    "### Logistic Regression:"
   ]
  },
  {
   "cell_type": "code",
   "execution_count": 280,
   "metadata": {},
   "outputs": [
    {
     "name": "stderr",
     "output_type": "stream",
     "text": [
      "/Applications/anaconda3/lib/python3.7/site-packages/sklearn/utils/validation.py:985: DataConversionWarning: A column-vector y was passed when a 1d array was expected. Please change the shape of y to (n_samples, ), for example using ravel().\n",
      "  y = column_or_1d(y, warn=True)\n",
      "/Applications/anaconda3/lib/python3.7/site-packages/sklearn/linear_model/_logistic.py:818: ConvergenceWarning: lbfgs failed to converge (status=1):\n",
      "STOP: TOTAL NO. of ITERATIONS REACHED LIMIT.\n",
      "\n",
      "Increase the number of iterations (max_iter) or scale the data as shown in:\n",
      "    https://scikit-learn.org/stable/modules/preprocessing.html\n",
      "Please also refer to the documentation for alternative solver options:\n",
      "    https://scikit-learn.org/stable/modules/linear_model.html#logistic-regression\n",
      "  extra_warning_msg=_LOGISTIC_SOLVER_CONVERGENCE_MSG,\n",
      "/Applications/anaconda3/lib/python3.7/site-packages/sklearn/utils/validation.py:985: DataConversionWarning: A column-vector y was passed when a 1d array was expected. Please change the shape of y to (n_samples, ), for example using ravel().\n",
      "  y = column_or_1d(y, warn=True)\n"
     ]
    },
    {
     "name": "stdout",
     "output_type": "stream",
     "text": [
      "For diabetes dataset:\n",
      "The training accuracy is: 0.7801556420233463\n",
      "The test accuracy is: 0.7480314960629921\n",
      "For adult dataset:\n",
      "The training accuracy is: 0.799679119871648\n",
      "The test accuracy is: 0.8052298529685464\n"
     ]
    },
    {
     "name": "stderr",
     "output_type": "stream",
     "text": [
      "/Applications/anaconda3/lib/python3.7/site-packages/sklearn/linear_model/_logistic.py:818: ConvergenceWarning: lbfgs failed to converge (status=1):\n",
      "STOP: TOTAL NO. of ITERATIONS REACHED LIMIT.\n",
      "\n",
      "Increase the number of iterations (max_iter) or scale the data as shown in:\n",
      "    https://scikit-learn.org/stable/modules/preprocessing.html\n",
      "Please also refer to the documentation for alternative solver options:\n",
      "    https://scikit-learn.org/stable/modules/linear_model.html#logistic-regression\n",
      "  extra_warning_msg=_LOGISTIC_SOLVER_CONVERGENCE_MSG,\n"
     ]
    }
   ],
   "source": [
    "from sklearn.linear_model import LogisticRegression\n",
    "from sklearn.metrics import accuracy_score\n",
    "from sklearn.metrics import classification_report\n",
    "\n",
    "model1 = LogisticRegression()\n",
    "result1 = model1.fit(X_diabetes_train, y_diabetes_train)\n",
    "\n",
    "print(\"For diabetes dataset:\")\n",
    "print(\"The training accuracy is:\", accuracy_score(y_diabetes_train, model1.predict(X_diabetes_train)))\n",
    "print(\"The test accuracy is:\", accuracy_score(y_diabetes_test, model1.predict(X_diabetes_test)))\n",
    "\n",
    "metrics_table_diabetes.loc['Logistic Regression','Train'] = accuracy_score(y_diabetes_train, model1.predict(X_diabetes_train))\n",
    "metrics_table_diabetes.loc['Logistic Regression','Test'] = accuracy_score(y_diabetes_test, model1.predict(X_diabetes_test))\n",
    "\n",
    "\n",
    "model2 = LogisticRegression()\n",
    "result2 = model2.fit(X_adult_train, y_adult_train)\n",
    "\n",
    "print(\"For adult dataset:\")\n",
    "print(\"The training accuracy is:\", accuracy_score(y_adult_train, model2.predict(X_adult_train)))\n",
    "print(\"The test accuracy is:\", accuracy_score(y_adult_test, model2.predict(X_adult_test)))\n",
    "\n",
    "\n",
    "metrics_table_adult.loc['Logistic Regression','Train'] = accuracy_score(y_adult_train, model2.predict(X_adult_train))\n",
    "metrics_table_adult.loc['Logistic Regression','Test'] = accuracy_score(y_adult_test, model2.predict(X_adult_test))\n",
    "\n"
   ]
  },
  {
   "cell_type": "code",
   "execution_count": 281,
   "metadata": {},
   "outputs": [
    {
     "name": "stdout",
     "output_type": "stream",
     "text": [
      "For Diabetes dataset, accuracies are:\n"
     ]
    },
    {
     "data": {
      "text/html": [
       "<div>\n",
       "<style scoped>\n",
       "    .dataframe tbody tr th:only-of-type {\n",
       "        vertical-align: middle;\n",
       "    }\n",
       "\n",
       "    .dataframe tbody tr th {\n",
       "        vertical-align: top;\n",
       "    }\n",
       "\n",
       "    .dataframe thead th {\n",
       "        text-align: right;\n",
       "    }\n",
       "</style>\n",
       "<table border=\"1\" class=\"dataframe\">\n",
       "  <thead>\n",
       "    <tr style=\"text-align: right;\">\n",
       "      <th></th>\n",
       "      <th>Train</th>\n",
       "      <th>Test</th>\n",
       "    </tr>\n",
       "  </thead>\n",
       "  <tbody>\n",
       "    <tr>\n",
       "      <th>Random Forest</th>\n",
       "      <td>1</td>\n",
       "      <td>0.751969</td>\n",
       "    </tr>\n",
       "    <tr>\n",
       "      <th>MLP</th>\n",
       "      <td>0.79572</td>\n",
       "      <td>0.700787</td>\n",
       "    </tr>\n",
       "    <tr>\n",
       "      <th>Logistic Regression</th>\n",
       "      <td>0.780156</td>\n",
       "      <td>0.748031</td>\n",
       "    </tr>\n",
       "  </tbody>\n",
       "</table>\n",
       "</div>"
      ],
      "text/plain": [
       "                        Train      Test\n",
       "Random Forest               1  0.751969\n",
       "MLP                   0.79572  0.700787\n",
       "Logistic Regression  0.780156  0.748031"
      ]
     },
     "execution_count": 281,
     "metadata": {},
     "output_type": "execute_result"
    }
   ],
   "source": [
    "print('For Diabetes dataset, accuracies are:')\n",
    "metrics_table_diabetes"
   ]
  },
  {
   "cell_type": "code",
   "execution_count": 282,
   "metadata": {},
   "outputs": [
    {
     "name": "stdout",
     "output_type": "stream",
     "text": [
      "For Adult dataset, accuracies are:\n"
     ]
    },
    {
     "data": {
      "text/html": [
       "<div>\n",
       "<style scoped>\n",
       "    .dataframe tbody tr th:only-of-type {\n",
       "        vertical-align: middle;\n",
       "    }\n",
       "\n",
       "    .dataframe tbody tr th {\n",
       "        vertical-align: top;\n",
       "    }\n",
       "\n",
       "    .dataframe thead th {\n",
       "        text-align: right;\n",
       "    }\n",
       "</style>\n",
       "<table border=\"1\" class=\"dataframe\">\n",
       "  <thead>\n",
       "    <tr style=\"text-align: right;\">\n",
       "      <th></th>\n",
       "      <th>Train</th>\n",
       "      <th>Test</th>\n",
       "    </tr>\n",
       "  </thead>\n",
       "  <tbody>\n",
       "    <tr>\n",
       "      <th>Random Forest</th>\n",
       "      <td>1</td>\n",
       "      <td>0.855481</td>\n",
       "    </tr>\n",
       "    <tr>\n",
       "      <th>MLP</th>\n",
       "      <td>0.780701</td>\n",
       "      <td>0.788107</td>\n",
       "    </tr>\n",
       "    <tr>\n",
       "      <th>Logistic Regression</th>\n",
       "      <td>0.799679</td>\n",
       "      <td>0.80523</td>\n",
       "    </tr>\n",
       "  </tbody>\n",
       "</table>\n",
       "</div>"
      ],
      "text/plain": [
       "                        Train      Test\n",
       "Random Forest               1  0.855481\n",
       "MLP                  0.780701  0.788107\n",
       "Logistic Regression  0.799679   0.80523"
      ]
     },
     "execution_count": 282,
     "metadata": {},
     "output_type": "execute_result"
    }
   ],
   "source": [
    "print('For Adult dataset, accuracies are:')\n",
    "metrics_table_adult"
   ]
  },
  {
   "cell_type": "markdown",
   "metadata": {},
   "source": [
    "### b)"
   ]
  },
  {
   "cell_type": "code",
   "execution_count": 283,
   "metadata": {},
   "outputs": [],
   "source": [
    "from sklearn.calibration import CalibrationDisplay\n",
    "\n",
    "# Create classifiers\n",
    "\n",
    "clf_list1 = [\n",
    "    (model1, \"Logistic Regression\"),\n",
    "    (rfc1, \"Random forest\"),\n",
    "    (mlp1, \"Multilayer Perceptron\")]\n",
    "\n",
    "\n",
    "clf_list2 = [\n",
    "    (model2, \"Logistic Regression\"),\n",
    "    (rfc2, \"Random forest\"),\n",
    "    (mlp2, \"Multilayer Perceptron\")]"
   ]
  },
  {
   "cell_type": "code",
   "execution_count": 284,
   "metadata": {},
   "outputs": [
    {
     "data": {
      "image/png": "[encoded data removed]",
      "text/plain": [
       "<Figure size 720x720 with 1 Axes>"
      ]
     },
     "metadata": {
      "needs_background": "light"
     },
     "output_type": "display_data"
    }
   ],
   "source": [
    "import matplotlib.pyplot as plt\n",
    "from matplotlib.gridspec import GridSpec\n",
    "\n",
    "fig = plt.figure(figsize=(10, 10))\n",
    "gs = GridSpec(4, 2)\n",
    "colors = plt.cm.get_cmap(\"Dark2\")\n",
    "\n",
    "ax_calibration_curve = fig.add_subplot(gs[:2, :2])\n",
    "calibration_displays = {}\n",
    "for i, (clf, name) in enumerate(clf_list1):\n",
    "    #clf.fit(X_train, y_train)\n",
    "    display = CalibrationDisplay.from_estimator(\n",
    "        clf,\n",
    "        X_diabetes,\n",
    "        y_diabetes,\n",
    "        n_bins=10,\n",
    "        name=name,\n",
    "        ax=ax_calibration_curve,\n",
    "        color=colors(i),\n",
    "    )\n",
    "    calibration_displays[name] = display\n",
    "\n",
    "ax_calibration_curve.grid()\n",
    "ax_calibration_curve.set_title(\"Calibration plots for Diabetes Dataset\")\n",
    "\n",
    "# Add histogram\n",
    "# grid_positions = [(2, 0), (2, 1), (3, 0), (3, 1)]\n",
    "# for i, (_, name) in enumerate(clf_list):\n",
    "#     row, col = grid_positions[i]\n",
    "#     ax = fig.add_subplot(gs[row, col])\n",
    "\n",
    "#     ax.hist(\n",
    "#         calibration_displays[name].y_prob,\n",
    "#         range=(0, 1),\n",
    "#         bins=10,\n",
    "#         label=name,\n",
    "#         color=colors(i),\n",
    "#     )\n",
    "#     ax.set(title=name, xlabel=\"Mean predicted probability\", ylabel=\"Count\")\n",
    "\n",
    "plt.tight_layout()\n",
    "plt.show()"
   ]
  },
  {
   "cell_type": "code",
   "execution_count": 309,
   "metadata": {},
   "outputs": [
    {
     "data": {
      "text/plain": [
       "Text(0.5, 1.0, 'Calibration plots for Adult Dataset')"
      ]
     },
     "execution_count": 309,
     "metadata": {},
     "output_type": "execute_result"
    },
    {
     "data": {
      "image/png": "[encoded data removed]",
      "text/plain": [
       "<Figure size 720x720 with 1 Axes>"
      ]
     },
     "metadata": {
      "needs_background": "light"
     },
     "output_type": "display_data"
    }
   ],
   "source": [
    "import matplotlib.pyplot as plt\n",
    "from matplotlib.gridspec import GridSpec\n",
    "\n",
    "fig = plt.figure(figsize=(10, 10))\n",
    "gs = GridSpec(4, 2)\n",
    "colors = plt.cm.get_cmap(\"Dark2\")\n",
    "\n",
    "ax_calibration_curve = fig.add_subplot(gs[:2, :2])\n",
    "calibration_displays = {}\n",
    "for i, (clf, name) in enumerate(clf_list2):\n",
    "    #clf.fit(X_train, y_train)\n",
    "    display = CalibrationDisplay.from_estimator(\n",
    "        clf,\n",
    "        X_adult,\n",
    "        y_adult,\n",
    "        n_bins=6,\n",
    "        name=name,\n",
    "        ax=ax_calibration_curve,\n",
    "        color=colors(i),\n",
    "    )\n",
    "    calibration_displays[name] = display\n",
    "\n",
    "ax_calibration_curve.grid()\n",
    "ax_calibration_curve.set_title(\"Calibration plots for Adult Dataset\")\n"
   ]
  },
  {
   "cell_type": "markdown",
   "metadata": {},
   "source": [
    "### c)"
   ]
  },
  {
   "cell_type": "markdown",
   "metadata": {},
   "source": [
    "### DiCE (random)"
   ]
  },
  {
   "cell_type": "code",
   "execution_count": 286,
   "metadata": {},
   "outputs": [],
   "source": [
    "# import DiCE\n",
    "import dice_ml\n",
    "from dice_ml.utils import helpers  # helper functions"
   ]
  },
  {
   "cell_type": "code",
   "execution_count": 287,
   "metadata": {},
   "outputs": [],
   "source": [
    "def generateCF(model, method, X, y, sample_size, n_cfs, cont_features, cat_features):\n",
    "    dataset = X.copy()\n",
    "    dataset['outcome'] = y\n",
    "    d = dice_ml.Data(dataframe=dataset, continuous_features=cont_features, categorical_features=cat_features, outcome_name='outcome')\n",
    "    \n",
    "    # provide the trained ML model to DiCE's model object\n",
    "    backend = 'sklearn'\n",
    "    m = dice_ml.Model(model=model, backend=backend)\n",
    "    \n",
    "    # initiate DiCE\n",
    "    exp = dice_ml.Dice(d, m, method=method)\n",
    "    \n",
    "    query_instances = X[:sample_size]\n",
    "    \n",
    "    # generate counterfactuals\n",
    "    dice_exp = exp.generate_counterfactuals(\n",
    "        query_instances, total_CFs=n_cfs, desired_class=\"opposite\", verbose=False)\n",
    "    \n",
    "    return dice_exp, dataset.head(sample_size)"
   ]
  },
  {
   "cell_type": "code",
   "execution_count": 288,
   "metadata": {},
   "outputs": [],
   "source": [
    "diabetes_cont_features = list(X_diabetes.columns)\n",
    "diabetes_cat_features = None\n",
    "\n",
    "\n",
    "adults_cat_features = ['capital-loss',\n",
    "       'hours-per-week', 'workclass_ Federal-gov', 'workclass_ Local-gov',\n",
    "       'workclass_ Never-worked', 'workclass_ Private',\n",
    "       'workclass_ Self-emp-inc', 'workclass_ Self-emp-not-inc',\n",
    "       'workclass_ State-gov', 'workclass_ Without-pay', 'education_ 11th',\n",
    "       'education_ 12th', 'education_ 1st-4th', 'education_ 5th-6th',\n",
    "       'education_ 7th-8th', 'education_ 9th', 'education_ Assoc-acdm',\n",
    "       'education_ Assoc-voc', 'education_ Bachelors', 'education_ Doctorate',\n",
    "       'education_ HS-grad', 'education_ Masters', 'education_ Preschool',\n",
    "       'education_ Prof-school', 'education_ Some-college',\n",
    "       'marital-status_ Married-AF-spouse',\n",
    "       'marital-status_ Married-civ-spouse',\n",
    "       'marital-status_ Married-spouse-absent',\n",
    "       'marital-status_ Never-married', 'marital-status_ Separated',\n",
    "       'marital-status_ Widowed', 'occupation_ Adm-clerical',\n",
    "       'occupation_ Armed-Forces', 'occupation_ Craft-repair',\n",
    "       'occupation_ Exec-managerial', 'occupation_ Farming-fishing',\n",
    "       'occupation_ Handlers-cleaners', 'occupation_ Machine-op-inspct',\n",
    "       'occupation_ Other-service', 'occupation_ Priv-house-serv',\n",
    "       'occupation_ Prof-specialty', 'occupation_ Protective-serv',\n",
    "       'occupation_ Sales', 'occupation_ Tech-support',\n",
    "       'occupation_ Transport-moving', 'relationship_ Not-in-family',\n",
    "       'relationship_ Other-relative', 'relationship_ Own-child',\n",
    "       'relationship_ Unmarried', 'relationship_ Wife',\n",
    "       'race_ Asian-Pac-Islander', 'race_ Black', 'race_ Other', 'race_ White',\n",
    "       'sex_ Male']\n",
    "\n",
    "#adults_cat_features = None\n",
    "adults_cont_features = ['age', 'fnlwgt', 'education-num', 'capital-gain', 'capital-loss', 'hours-per-week']"
   ]
  },
  {
   "cell_type": "code",
   "execution_count": 289,
   "metadata": {},
   "outputs": [],
   "source": [
    "def generateContProximity(cfs, dataset, sample_size, n_cfs, c_features):\n",
    "    dist_outer = []\n",
    "    for i in range(sample_size):\n",
    "        p1 = dataset[c_features].iloc[i].values\n",
    "        out_array = cfs.cf_examples_list[i].final_cfs_df[c_features].values.T\n",
    "        temp = np.array([np.abs(c-p1) for c in out_array.T])\n",
    "        dist = (temp @ temp.T) @ np.ones(n_cfs)\n",
    "        \n",
    "        dist = np.dot(temp, out_array)\n",
    "        dist_outer.append(-np.mean(np.sqrt(dist)))\n",
    "    return np.mean(dist_outer)\n",
    "\n",
    "\n",
    "def generateValidity(cfs, sample_size):\n",
    "    r_outer = []\n",
    "    for i in range(sample_size):\n",
    "        unique_cfs = len(set(map(str, cfs.cf_examples_list[i].final_cfs_df.values)))\n",
    "        \n",
    "        r_outer.append(float(unique_cfs) / sample_size) \n",
    "    return np.mean(r_outer)\n",
    "\n",
    "\n",
    "def generateSparcity(cfs, dataset, sample_size, n_cfs):\n",
    "    \n",
    "    dist_outer = []\n",
    "    for i in range(sample_size):\n",
    "        p1 = dataset.iloc[i].values\n",
    "        out_array = cfs.cf_examples_list[i].final_cfs_df.values.T\n",
    "        \n",
    "        temp = sum([sum(np.abs(c-p1)>0) for c in out_array.T])\n",
    "        temp = float(temp) / n_cfs / dataset.shape[1]\n",
    "        dist_outer.append(1 - temp)\n",
    "    return np.mean(dist_outer)\n",
    "\n",
    "def generateDiversity(cfs, sample_size, n_cfs):\n",
    "    dist_outer = []\n",
    "    for i in range(sample_size):\n",
    "        out_array = cfs.cf_examples_list[i].final_cfs_df.values.T\n",
    "        dist = 0\n",
    "        for c in out_array.T:\n",
    "            temp = np.array([np.abs(q-c) for q in out_array.T])\n",
    "            dist += sum((temp @ temp.T) @ np.ones(5)) / (c.T @ c)\n",
    "        \n",
    "        dist = float(dist) / n_cfs\n",
    "        dist_outer.append(dist)\n",
    "\n",
    "    return np.mean(dist_outer)\n",
    "\n",
    "def get_mmd_rbf(cfs, dataset, sample_size, gamma=1.0):\n",
    "    \n",
    "    \"\"\"MMD using rbf (gaussian) kernel (i.e., k(x,y) = exp(-gamma * ||x-y||^2 / 2))\n",
    "    Arguments:\n",
    "        X {[n_sample1, dim]} -- [X matrix]\n",
    "        Y {[n_sample2, dim]} -- [Y matrix]\n",
    "    Keyword Arguments:\n",
    "        gamma {float} -- [kernel parameter] (default: {1.0})\n",
    "    Returns:\n",
    "        [scalar] -- [MMD value]\n",
    "    \"\"\"\n",
    "    \n",
    "    XX_list = []\n",
    "    YY_list = []\n",
    "    XY_list = []\n",
    "    \n",
    "    for i in range(sample_size):\n",
    "        X = dataset.iloc[i].values.reshape(-1, 1).T\n",
    "        Y = cfs.cf_examples_list[i].final_cfs_df.values\n",
    "        XX = metrics.pairwise.rbf_kernel(X, X, gamma)\n",
    "        YY = metrics.pairwise.rbf_kernel(Y, Y, gamma)\n",
    "        XY = metrics.pairwise.rbf_kernel(X, Y, gamma)\n",
    "        \n",
    "        XX_list.append(XX)\n",
    "        YY_list.append(YY)\n",
    "        XY_list.append(XY)\n",
    "        \n",
    "    return np.mean(XX_list) + np.mean(YY_list) - 2 * np.mean(XY_list)\n"
   ]
  },
  {
   "cell_type": "code",
   "execution_count": 290,
   "metadata": {},
   "outputs": [
    {
     "name": "stderr",
     "output_type": "stream",
     "text": [
      "  7%|▋         | 1/15 [00:00<00:01,  8.00it/s]"
     ]
    },
    {
     "name": "stdout",
     "output_type": "stream",
     "text": [
      "Generating counterfactuals for Diabetes Dataset\n",
      "Model Name:  Logistic Regression\n",
      "Method Name:  random\n"
     ]
    },
    {
     "name": "stderr",
     "output_type": "stream",
     "text": [
      "100%|██████████| 15/15 [00:02<00:00,  7.01it/s]\n",
      "  7%|▋         | 1/15 [00:00<00:01,  8.10it/s]"
     ]
    },
    {
     "name": "stdout",
     "output_type": "stream",
     "text": [
      "1.205332974303131\n",
      "Model Name:  MLP\n",
      "Method Name:  random\n"
     ]
    },
    {
     "name": "stderr",
     "output_type": "stream",
     "text": [
      "100%|██████████| 15/15 [00:02<00:00,  5.82it/s]\n",
      "  0%|          | 0/15 [00:00<?, ?it/s]"
     ]
    },
    {
     "name": "stdout",
     "output_type": "stream",
     "text": [
      "1.2026636955116257\n",
      "Model Name:  Random Forest\n",
      "Method Name:  random\n"
     ]
    },
    {
     "name": "stderr",
     "output_type": "stream",
     "text": [
      "100%|██████████| 15/15 [00:07<00:00,  1.94it/s]\n"
     ]
    },
    {
     "name": "stdout",
     "output_type": "stream",
     "text": [
      "1.1974615160126876\n",
      "Generating counterfactuals for Adult Dataset\n",
      "Model Name:  Logistic Regression\n",
      "Method Name:  random\n"
     ]
    },
    {
     "name": "stderr",
     "output_type": "stream",
     "text": [
      "100%|██████████| 15/15 [00:03<00:00,  4.05it/s]\n"
     ]
    },
    {
     "name": "stdout",
     "output_type": "stream",
     "text": [
      "1.2072437862699785\n",
      "Model Name:  MLP\n",
      "Method Name:  random\n"
     ]
    },
    {
     "name": "stderr",
     "output_type": "stream",
     "text": [
      "100%|██████████| 15/15 [00:03<00:00,  4.46it/s]\n"
     ]
    },
    {
     "name": "stdout",
     "output_type": "stream",
     "text": [
      "1.200315106486186\n",
      "Model Name:  Random Forest\n",
      "Method Name:  random\n"
     ]
    },
    {
     "name": "stderr",
     "output_type": "stream",
     "text": [
      "100%|██████████| 15/15 [00:06<00:00,  2.37it/s]"
     ]
    },
    {
     "name": "stdout",
     "output_type": "stream",
     "text": [
      "1.1872679490073865\n"
     ]
    },
    {
     "name": "stderr",
     "output_type": "stream",
     "text": [
      "\n"
     ]
    }
   ],
   "source": [
    "clf_dict = {\n",
    "    'Diabetes Dataset' : {\n",
    "        'Logistic Regression' : model1,\n",
    "        'MLP' : mlp1,\n",
    "        'Random Forest' : rfc1\n",
    "    },\n",
    "    'Adult Dataset' : {\n",
    "        'Logistic Regression' : model2,\n",
    "        'MLP' : mlp2,\n",
    "        'Random Forest' : rfc2\n",
    "    }\n",
    "    \n",
    "}\n",
    "\n",
    "clf_data = {\n",
    "    'Diabetes Dataset' : {\n",
    "        'X_test' : X_diabetes_test,\n",
    "        'y_test' : y_diabetes_test,\n",
    "        'cont_features' : diabetes_cont_features,\n",
    "        'cat_features' : diabetes_cat_features\n",
    "    },\n",
    "    'Adult Dataset' : {\n",
    "        'X_test' : X_adult_test,\n",
    "        'y_test' : y_adult_test,\n",
    "        'cont_features' : adults_cont_features,\n",
    "        'cat_features' : adults_cat_features\n",
    "    }, \n",
    "    \n",
    "}\n",
    "\n",
    "sample_size = 15\n",
    "n_cfs = 5 \n",
    "cf_metric = defaultdict(dict)\n",
    "\n",
    "for k in clf_dict.keys():\n",
    "    print('Generating counterfactuals for', k)\n",
    "    for name, model in clf_dict[k].items():\n",
    "        print('Model Name: ', name)\n",
    "        for method in ['random']:\n",
    "            print('Method Name: ', method)\n",
    "            \n",
    "            X = clf_data[k]['X_test']\n",
    "            y = clf_data[k]['y_test']\n",
    "            cont_features = clf_data[k]['cont_features']\n",
    "            cat_features = clf_data[k]['cat_features']\n",
    "            \n",
    "            cfs, dataset = generateCF(model=model,\n",
    "                                      method=method, \n",
    "                                      X=X, \n",
    "                                      y=y, \n",
    "                                      sample_size=sample_size, \n",
    "                                      n_cfs=n_cfs,\n",
    "                                      cont_features=cont_features,\n",
    "                                      cat_features=cat_features)\n",
    "            \n",
    "        \n",
    "\n",
    "                \n",
    "            proximity = generateContProximity(cfs, dataset, sample_size, n_cfs, cont_features)\n",
    "\n",
    "            validity = generateValidity(cfs, sample_size)\n",
    "            sparcity = generateSparcity(cfs, dataset, sample_size, n_cfs)\n",
    "            diversity = generateDiversity(cfs, sample_size, n_cfs)\n",
    "            mmd = get_mmd_rbf(cfs, dataset, sample_size)\n",
    "            print(mmd)\n",
    "                \n",
    "            cf_metric_key = '~'.join([k, method, name])\n",
    "                    \n",
    "            if cf_metric_key not in cf_metric:\n",
    "                    cf_metric[cf_metric_key] = {\n",
    "                        'proximity' : proximity,\n",
    "                        'validity' : validity,\n",
    "                        'sparcity' : sparcity,\n",
    "                        'diversity' : diversity,\n",
    "                        'mmd' : mmd\n",
    "                    }\n",
    "        \n",
    "    "
   ]
  },
  {
   "cell_type": "code",
   "execution_count": 291,
   "metadata": {},
   "outputs": [
    {
     "data": {
      "text/html": [
       "<div>\n",
       "<style scoped>\n",
       "    .dataframe tbody tr th:only-of-type {\n",
       "        vertical-align: middle;\n",
       "    }\n",
       "\n",
       "    .dataframe tbody tr th {\n",
       "        vertical-align: top;\n",
       "    }\n",
       "\n",
       "    .dataframe thead th {\n",
       "        text-align: right;\n",
       "    }\n",
       "</style>\n",
       "<table border=\"1\" class=\"dataframe\">\n",
       "  <thead>\n",
       "    <tr style=\"text-align: right;\">\n",
       "      <th></th>\n",
       "      <th>Dataset</th>\n",
       "      <th>Model</th>\n",
       "      <th>proximity</th>\n",
       "      <th>validity</th>\n",
       "      <th>sparcity</th>\n",
       "      <th>diversity</th>\n",
       "      <th>mmd</th>\n",
       "    </tr>\n",
       "  </thead>\n",
       "  <tbody>\n",
       "    <tr>\n",
       "      <th>0</th>\n",
       "      <td>Diabetes Dataset</td>\n",
       "      <td>Logistic Regression</td>\n",
       "      <td>-65.730465</td>\n",
       "      <td>0.333333</td>\n",
       "      <td>0.752593</td>\n",
       "      <td>3.506712</td>\n",
       "      <td>1.205333</td>\n",
       "    </tr>\n",
       "    <tr>\n",
       "      <th>1</th>\n",
       "      <td>Diabetes Dataset</td>\n",
       "      <td>MLP</td>\n",
       "      <td>-99.667482</td>\n",
       "      <td>0.333333</td>\n",
       "      <td>0.758519</td>\n",
       "      <td>16.524139</td>\n",
       "      <td>1.202664</td>\n",
       "    </tr>\n",
       "    <tr>\n",
       "      <th>2</th>\n",
       "      <td>Diabetes Dataset</td>\n",
       "      <td>Random Forest</td>\n",
       "      <td>-87.595032</td>\n",
       "      <td>0.333333</td>\n",
       "      <td>0.746667</td>\n",
       "      <td>4.614842</td>\n",
       "      <td>1.197462</td>\n",
       "    </tr>\n",
       "    <tr>\n",
       "      <th>3</th>\n",
       "      <td>Adult Dataset</td>\n",
       "      <td>Logistic Regression</td>\n",
       "      <td>-17350.604382</td>\n",
       "      <td>0.333333</td>\n",
       "      <td>0.961592</td>\n",
       "      <td>1.313031</td>\n",
       "      <td>1.207244</td>\n",
       "    </tr>\n",
       "    <tr>\n",
       "      <th>4</th>\n",
       "      <td>Adult Dataset</td>\n",
       "      <td>MLP</td>\n",
       "      <td>-82199.374247</td>\n",
       "      <td>0.333333</td>\n",
       "      <td>0.967562</td>\n",
       "      <td>21.557716</td>\n",
       "      <td>1.200315</td>\n",
       "    </tr>\n",
       "    <tr>\n",
       "      <th>5</th>\n",
       "      <td>Adult Dataset</td>\n",
       "      <td>Random Forest</td>\n",
       "      <td>-64624.271503</td>\n",
       "      <td>0.333333</td>\n",
       "      <td>0.962985</td>\n",
       "      <td>58.342425</td>\n",
       "      <td>1.187268</td>\n",
       "    </tr>\n",
       "  </tbody>\n",
       "</table>\n",
       "</div>"
      ],
      "text/plain": [
       "            Dataset                Model     proximity  validity  sparcity  \\\n",
       "0  Diabetes Dataset  Logistic Regression    -65.730465  0.333333  0.752593   \n",
       "1  Diabetes Dataset                  MLP    -99.667482  0.333333  0.758519   \n",
       "2  Diabetes Dataset        Random Forest    -87.595032  0.333333  0.746667   \n",
       "3     Adult Dataset  Logistic Regression -17350.604382  0.333333  0.961592   \n",
       "4     Adult Dataset                  MLP -82199.374247  0.333333  0.967562   \n",
       "5     Adult Dataset        Random Forest -64624.271503  0.333333  0.962985   \n",
       "\n",
       "   diversity       mmd  \n",
       "0   3.506712  1.205333  \n",
       "1  16.524139  1.202664  \n",
       "2   4.614842  1.197462  \n",
       "3   1.313031  1.207244  \n",
       "4  21.557716  1.200315  \n",
       "5  58.342425  1.187268  "
      ]
     },
     "execution_count": 291,
     "metadata": {},
     "output_type": "execute_result"
    }
   ],
   "source": [
    "df = pd.DataFrame.from_dict(cf_metric, orient='index').reset_index()\n",
    "index_split = df['index'].str.split('~', expand=True)\n",
    "df['Dataset'] = index_split[0]\n",
    "df['Model'] = index_split[2]\n",
    "df.drop('index', inplace = True, axis = 1)\n",
    "\n",
    "df = df[['Dataset', 'Model', 'proximity', 'validity', 'sparcity', 'diversity', 'mmd']]\n",
    "df.sort_values(by=['Dataset'], ascending=False)"
   ]
  },
  {
   "cell_type": "markdown",
   "metadata": {},
   "source": [
    "### DiCE (genetic)"
   ]
  },
  {
   "cell_type": "code",
   "execution_count": 297,
   "metadata": {},
   "outputs": [],
   "source": [
    "clf_dict = {\n",
    "    'Diabetes Dataset' : {\n",
    "        'Logistic Regression' : model1,\n",
    "        'MLP' : mlp1,\n",
    "        'Random Forest' : rfc1\n",
    "    }\n",
    "    \n",
    "}\n",
    "\n",
    "clf_data = {\n",
    "    'Diabetes Dataset' : {\n",
    "        'X_test' : X_diabetes_test,\n",
    "        'y_test' : y_diabetes_test,\n",
    "        'cont_features' : diabetes_cont_features,\n",
    "        'cat_features' : diabetes_cat_features\n",
    "    },\n",
    "\n",
    "    \n",
    "}"
   ]
  },
  {
   "cell_type": "code",
   "execution_count": 298,
   "metadata": {},
   "outputs": [
    {
     "name": "stderr",
     "output_type": "stream",
     "text": [
      "  7%|▋         | 1/15 [00:00<00:02,  5.75it/s]"
     ]
    },
    {
     "name": "stdout",
     "output_type": "stream",
     "text": [
      "Generating counterfactuals for Diabetes Dataset\n",
      "Model Name:  Logistic Regression\n",
      "Method Name:  genetic\n"
     ]
    },
    {
     "name": "stderr",
     "output_type": "stream",
     "text": [
      "100%|██████████| 15/15 [00:02<00:00,  6.96it/s]\n",
      "  7%|▋         | 1/15 [00:00<00:02,  6.91it/s]"
     ]
    },
    {
     "name": "stdout",
     "output_type": "stream",
     "text": [
      "1.150949408443964\n",
      "Model Name:  MLP\n",
      "Method Name:  genetic\n"
     ]
    },
    {
     "name": "stderr",
     "output_type": "stream",
     "text": [
      "100%|██████████| 15/15 [00:02<00:00,  7.20it/s]\n",
      "  0%|          | 0/15 [00:00<?, ?it/s]"
     ]
    },
    {
     "name": "stdout",
     "output_type": "stream",
     "text": [
      "1.1231052008691766\n",
      "Model Name:  Random Forest\n",
      "Method Name:  genetic\n"
     ]
    },
    {
     "name": "stderr",
     "output_type": "stream",
     "text": [
      "100%|██████████| 15/15 [00:05<00:00,  2.54it/s]"
     ]
    },
    {
     "name": "stdout",
     "output_type": "stream",
     "text": [
      "1.1592599560160397\n"
     ]
    },
    {
     "name": "stderr",
     "output_type": "stream",
     "text": [
      "\n"
     ]
    }
   ],
   "source": [
    "sample_size = 15\n",
    "n_cfs = 5 \n",
    "cf_metric = defaultdict(dict)\n",
    "\n",
    "for k in clf_dict.keys():\n",
    "    print('Generating counterfactuals for', k)\n",
    "    for name, model in clf_dict[k].items():\n",
    "        print('Model Name: ', name)\n",
    "        for method in ['genetic']:\n",
    "            print('Method Name: ', method)\n",
    "            \n",
    "            X = clf_data[k]['X_test']\n",
    "            y = clf_data[k]['y_test']\n",
    "            cont_features = clf_data[k]['cont_features']\n",
    "            cat_features = clf_data[k]['cat_features']\n",
    "            \n",
    "            cfs, dataset = generateCF(model=model,\n",
    "                                      method=method, \n",
    "                                      X=X, \n",
    "                                      y=y, \n",
    "                                      sample_size=sample_size, \n",
    "                                      n_cfs=n_cfs,\n",
    "                                      cont_features=cont_features,\n",
    "                                      cat_features=cat_features)\n",
    "            \n",
    "          \n",
    "                \n",
    "\n",
    "                \n",
    "            proximity = generateContProximity(cfs, dataset, sample_size, n_cfs, cont_features)\n",
    "\n",
    "            validity = generateValidity(cfs, sample_size)\n",
    "            sparcity = generateSparcity(cfs, dataset, sample_size, n_cfs)\n",
    "            diversity = generateDiversity(cfs, sample_size, n_cfs)\n",
    "            mmd = get_mmd_rbf(cfs, dataset, sample_size)\n",
    "            print(mmd)\n",
    "                \n",
    "            cf_metric_key = '~'.join([k, method, name])\n",
    "                    \n",
    "            if cf_metric_key not in cf_metric:\n",
    "                    cf_metric[cf_metric_key] = {\n",
    "                        'proximity' : proximity,\n",
    "                        'validity' : validity,\n",
    "                        'sparcity' : sparcity,\n",
    "                        'diversity' : diversity,\n",
    "                        'mmd' : mmd }\n",
    "                    \n",
    "    \n",
    "    "
   ]
  },
  {
   "cell_type": "code",
   "execution_count": 299,
   "metadata": {},
   "outputs": [
    {
     "data": {
      "text/html": [
       "<div>\n",
       "<style scoped>\n",
       "    .dataframe tbody tr th:only-of-type {\n",
       "        vertical-align: middle;\n",
       "    }\n",
       "\n",
       "    .dataframe tbody tr th {\n",
       "        vertical-align: top;\n",
       "    }\n",
       "\n",
       "    .dataframe thead th {\n",
       "        text-align: right;\n",
       "    }\n",
       "</style>\n",
       "<table border=\"1\" class=\"dataframe\">\n",
       "  <thead>\n",
       "    <tr style=\"text-align: right;\">\n",
       "      <th></th>\n",
       "      <th>Dataset</th>\n",
       "      <th>Model</th>\n",
       "      <th>proximity</th>\n",
       "      <th>validity</th>\n",
       "      <th>sparcity</th>\n",
       "      <th>diversity</th>\n",
       "      <th>mmd</th>\n",
       "    </tr>\n",
       "  </thead>\n",
       "  <tbody>\n",
       "    <tr>\n",
       "      <th>0</th>\n",
       "      <td>Diabetes Dataset</td>\n",
       "      <td>Logistic Regression</td>\n",
       "      <td>-98.514003</td>\n",
       "      <td>0.333333</td>\n",
       "      <td>0.254815</td>\n",
       "      <td>3.340513</td>\n",
       "      <td>1.150949</td>\n",
       "    </tr>\n",
       "    <tr>\n",
       "      <th>1</th>\n",
       "      <td>Diabetes Dataset</td>\n",
       "      <td>MLP</td>\n",
       "      <td>-83.108611</td>\n",
       "      <td>0.333333</td>\n",
       "      <td>0.294815</td>\n",
       "      <td>10.464143</td>\n",
       "      <td>1.123105</td>\n",
       "    </tr>\n",
       "    <tr>\n",
       "      <th>2</th>\n",
       "      <td>Diabetes Dataset</td>\n",
       "      <td>Random Forest</td>\n",
       "      <td>-93.160766</td>\n",
       "      <td>0.333333</td>\n",
       "      <td>0.266667</td>\n",
       "      <td>3.260738</td>\n",
       "      <td>1.159260</td>\n",
       "    </tr>\n",
       "  </tbody>\n",
       "</table>\n",
       "</div>"
      ],
      "text/plain": [
       "            Dataset                Model  proximity  validity  sparcity  \\\n",
       "0  Diabetes Dataset  Logistic Regression -98.514003  0.333333  0.254815   \n",
       "1  Diabetes Dataset                  MLP -83.108611  0.333333  0.294815   \n",
       "2  Diabetes Dataset        Random Forest -93.160766  0.333333  0.266667   \n",
       "\n",
       "   diversity       mmd  \n",
       "0   3.340513  1.150949  \n",
       "1  10.464143  1.123105  \n",
       "2   3.260738  1.159260  "
      ]
     },
     "execution_count": 299,
     "metadata": {},
     "output_type": "execute_result"
    }
   ],
   "source": [
    "df = pd.DataFrame.from_dict(cf_metric, orient='index').reset_index()\n",
    "index_split = df['index'].str.split('~', expand=True)\n",
    "df['Dataset'] = index_split[0]\n",
    "df['Model'] = index_split[2]\n",
    "df.drop('index', inplace = True, axis = 1)\n",
    "\n",
    "df = df[['Dataset', 'Model', 'proximity', 'validity', 'sparcity', 'diversity', 'mmd']]\n",
    "df.sort_values(by=['Dataset'], ascending=False)"
   ]
  },
  {
   "cell_type": "code",
   "execution_count": null,
   "metadata": {},
   "outputs": [],
   "source": []
  },
  {
   "cell_type": "code",
   "execution_count": null,
   "metadata": {},
   "outputs": [],
   "source": []
  }
 ],
 "metadata": {
  "colab": {
   "collapsed_sections": [],
   "name": "MIS382N_HW4-1.ipynb",
   "provenance": []
  },
  "kernelspec": {
   "display_name": "Python 3",
   "language": "python",
   "name": "python3"
  },
  "language_info": {
   "codemirror_mode": {
    "name": "ipython",
    "version": 3
   },
   "file_extension": ".py",
   "mimetype": "text/x-python",
   "name": "python",
   "nbconvert_exporter": "python",
   "pygments_lexer": "ipython3",
   "version": "3.7.6"
  }
 },
 "nbformat": 4,
 "nbformat_minor": 1
}
